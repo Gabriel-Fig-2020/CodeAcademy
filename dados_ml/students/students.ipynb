{
 "cells": [
  {
   "cell_type": "code",
   "execution_count": null,
   "metadata": {},
   "outputs": [],
   "source": [
    "# Load libraries\n",
    "import pandas as pd\n",
    "import numpy as np\n",
    "import codecademylib3\n",
    "import matplotlib.pyplot as plt\n",
    "import seaborn as sns"
   ]
  },
  {
   "cell_type": "code",
   "execution_count": null,
   "metadata": {},
   "outputs": [],
   "source": [
    "# Import data\n",
    "students = pd.read_csv('students.csv')\n",
    "\n",
    "# Print first few rows of data\n",
    "print(students.head())"
   ]
  },
  {
   "cell_type": "code",
   "execution_count": null,
   "metadata": {},
   "outputs": [],
   "source": [
    "# Print summary statistics for all columns\n",
    "print(students.describe(include = 'all'))\n",
    "\n",
    "# Calculate mean\n",
    "print('mean math grade: ', students.math_grade.mean())\n",
    "\n",
    "# Calculate median\n",
    "print('median math grade: ', students.math_grade.median())\n",
    "\n",
    "# Calculate mode\n",
    "print('mode of math grades: ', students.math_grade.mode()[0])\n",
    "\n",
    "# Calculate range\n",
    "print('range of math grades: ', students.math_grade.max() - students.math_grade.min())\n",
    "\n",
    "# Calculate standard deviation\n",
    "print('SD of math grades: ', students.math_grade.std())\n",
    "\n",
    "# Calculate MAD\n",
    "print('MAD of math grades: ', students.math_grade.mad())"
   ]
  },
  {
   "cell_type": "code",
   "execution_count": null,
   "metadata": {},
   "outputs": [],
   "source": [
    "# Create a histogram of math grades\n",
    "sns.histplot(x = 'math_grade', data = students)\n",
    "plt.show()\n",
    "plt.clf()"
   ]
  },
  {
   "cell_type": "code",
   "execution_count": null,
   "metadata": {},
   "outputs": [],
   "source": [
    "# Create a box plot of math grades\n",
    "sns.boxplot(x = 'math_grade', data = students)\n",
    "plt.show()\n",
    "plt.clf()"
   ]
  },
  {
   "cell_type": "code",
   "execution_count": null,
   "metadata": {},
   "outputs": [],
   "source": [
    "# Calculate number of students with mothers in each job category\n",
    "print(students.Mjob.value_counts())"
   ]
  },
  {
   "cell_type": "code",
   "execution_count": null,
   "metadata": {},
   "outputs": [],
   "source": [
    "# Calculate proportion of students with mothers in each job category\n",
    "print(students.Mjob.value_counts(normalize=True))"
   ]
  },
  {
   "cell_type": "code",
   "execution_count": null,
   "metadata": {},
   "outputs": [],
   "source": [
    "# Create bar chart of Mjob\n",
    "sns.countplot(x = 'Mjob', data = students)\n",
    "plt.show()\n",
    "plt.clf()"
   ]
  },
  {
   "cell_type": "code",
   "execution_count": null,
   "metadata": {},
   "outputs": [],
   "source": [
    "# Create pie chart of Mjob\n",
    "students.Mjob.value_counts().plot.pie()\n",
    "plt.show()"
   ]
  }
 ],
 "metadata": {
  "language_info": {
   "name": "python"
  },
  "orig_nbformat": 4
 },
 "nbformat": 4,
 "nbformat_minor": 2
}
